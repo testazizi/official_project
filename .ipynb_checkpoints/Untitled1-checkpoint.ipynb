{
 "cells": [
  {
   "cell_type": "code",
   "execution_count": 1,
   "id": "30a78901",
   "metadata": {},
   "outputs": [],
   "source": [
    "#import packages\n",
    "import pandas as pd\n",
    "import mysql.connector\n",
    "import time\n",
    "import os\n",
    "import cv2\n",
    "import sys\n",
    "from dotenv import load_dotenv\n",
    "from datetime import timedelta\n",
    "from datetime import datetime\n",
    "from pathlib import Path\n",
    "from functions import *\n",
    "from dotenv import load_dotenv\n",
    "import glob"
   ]
  },
  {
   "cell_type": "code",
   "execution_count": 2,
   "id": "048d8803",
   "metadata": {},
   "outputs": [],
   "source": [
    "user= \"root\" # the user\n",
    "password=\"epg2018.AfrDR12535754823\"  #the password\n",
    "localhost= \"127.0.0.1\"#the localhost\n",
    "db_name=\"Programs\"#name of the database\n",
    "channel_name= \"2m\"\n",
    "table_name=channel_name"
   ]
  },
  {
   "cell_type": "code",
   "execution_count": 39,
   "id": "f70ae7c7",
   "metadata": {},
   "outputs": [],
   "source": [
    "def get_date_of_jingle(channel_name,jingle,user,password,localhost,db_name):\n",
    "    \n",
    "    current_date=time.strftime(\"%d:%m:%Y\").replace(':','/')\n",
    "    current_time=datetime.strptime(time.strftime(\"%H:%M:%S\"),\"%H:%M:%S\")\n",
    "    result=''\n",
    "    \n",
    "    connection = mysql.connector.connect(host=localhost,\n",
    "                         user=user,\n",
    "                         password=password,\n",
    "                         db=db_name,\n",
    "                        auth_plugin='mysql_native_password')\n",
    "    \n",
    "    cursor=connection.cursor()\n",
    "\n",
    "    sql='select Start_Time from ' +channel_name+ ' where Start_Date='+'\"'+current_date+'\"'+' and Event_name='+'\"'+jingle+'\"'\n",
    "    print(sql)\n",
    "    cursor.execute(sql)\n",
    "    records = cursor.fetchall()\n",
    "    \n",
    "    if len(records)==1:\n",
    "        return records[0]\n",
    "    else:\n",
    "    \n",
    "        for record in records:\n",
    "            #print(record)\n",
    "            interval=[]\n",
    "            interval.append(datetime.strptime(':'.join(record[0].split(':')[:3]),\"%H:%M:%S\")- timedelta(minutes=150))\n",
    "            interval.append(datetime.strptime(':'.join(record[0].split(':')[:3]),\"%H:%M:%S\")+ timedelta(minutes=150))\n",
    "        \n",
    "        \n",
    "            if current_time>interval[0] and current_time<interval[1]:\n",
    "                result=record\n",
    "                break\n",
    "        \n",
    "            \n",
    "        return datetime.strptime(':'.join(result[0].split(':')[:-1]),\"%H:%M:%S\")"
   ]
  },
  {
   "cell_type": "code",
   "execution_count": 40,
   "id": "7eede328",
   "metadata": {},
   "outputs": [
    {
     "name": "stdout",
     "output_type": "stream",
     "text": [
      "select Start_Time from 2m where Start_Date=\"26/07/2022\" and Event_name=\"Assir\"\n"
     ]
    },
    {
     "ename": "IndexError",
     "evalue": "string index out of range",
     "output_type": "error",
     "traceback": [
      "\u001b[0;31m---------------------------------------------------------------------------\u001b[0m",
      "\u001b[0;31mIndexError\u001b[0m                                Traceback (most recent call last)",
      "\u001b[0;32m/tmp/ipykernel_167928/1708130480.py\u001b[0m in \u001b[0;36m<module>\u001b[0;34m\u001b[0m\n\u001b[0;32m----> 1\u001b[0;31m \u001b[0mget_date_of_jingle\u001b[0m\u001b[0;34m(\u001b[0m\u001b[0mchannel_name\u001b[0m\u001b[0;34m,\u001b[0m\u001b[0;34m\"Assir\"\u001b[0m\u001b[0;34m,\u001b[0m\u001b[0muser\u001b[0m\u001b[0;34m,\u001b[0m\u001b[0mpassword\u001b[0m\u001b[0;34m,\u001b[0m\u001b[0mlocalhost\u001b[0m\u001b[0;34m,\u001b[0m\u001b[0mdb_name\u001b[0m\u001b[0;34m)\u001b[0m\u001b[0;34m\u001b[0m\u001b[0;34m\u001b[0m\u001b[0m\n\u001b[0m",
      "\u001b[0;32m/tmp/ipykernel_167928/789092783.py\u001b[0m in \u001b[0;36mget_date_of_jingle\u001b[0;34m(channel_name, jingle, user, password, localhost, db_name)\u001b[0m\n\u001b[1;32m     34\u001b[0m \u001b[0;34m\u001b[0m\u001b[0m\n\u001b[1;32m     35\u001b[0m \u001b[0;34m\u001b[0m\u001b[0m\n\u001b[0;32m---> 36\u001b[0;31m         \u001b[0;32mreturn\u001b[0m \u001b[0mdatetime\u001b[0m\u001b[0;34m.\u001b[0m\u001b[0mstrptime\u001b[0m\u001b[0;34m(\u001b[0m\u001b[0;34m':'\u001b[0m\u001b[0;34m.\u001b[0m\u001b[0mjoin\u001b[0m\u001b[0;34m(\u001b[0m\u001b[0mresult\u001b[0m\u001b[0;34m[\u001b[0m\u001b[0;36m0\u001b[0m\u001b[0;34m]\u001b[0m\u001b[0;34m.\u001b[0m\u001b[0msplit\u001b[0m\u001b[0;34m(\u001b[0m\u001b[0;34m':'\u001b[0m\u001b[0;34m)\u001b[0m\u001b[0;34m[\u001b[0m\u001b[0;34m:\u001b[0m\u001b[0;34m-\u001b[0m\u001b[0;36m1\u001b[0m\u001b[0;34m]\u001b[0m\u001b[0;34m)\u001b[0m\u001b[0;34m,\u001b[0m\u001b[0;34m\"%H:%M:%S\"\u001b[0m\u001b[0;34m)\u001b[0m\u001b[0;34m\u001b[0m\u001b[0;34m\u001b[0m\u001b[0m\n\u001b[0m",
      "\u001b[0;31mIndexError\u001b[0m: string index out of range"
     ]
    }
   ],
   "source": [
    "get_date_of_jingle(channel_name,\"Assir\",user,password,localhost,db_name)"
   ]
  },
  {
   "cell_type": "code",
   "execution_count": 15,
   "id": "7060b64e",
   "metadata": {},
   "outputs": [
    {
     "data": {
      "text/plain": [
       "'00:20:00'"
      ]
     },
     "execution_count": 15,
     "metadata": {},
     "output_type": "execute_result"
    }
   ],
   "source": [
    "':'.join('00:20:00:00'.split(':')[:3])"
   ]
  },
  {
   "cell_type": "code",
   "execution_count": 16,
   "id": "951719d8",
   "metadata": {},
   "outputs": [
    {
     "data": {
      "text/plain": [
       "datetime.datetime(1899, 12, 31, 23, 40)"
      ]
     },
     "execution_count": 16,
     "metadata": {},
     "output_type": "execute_result"
    }
   ],
   "source": [
    "datetime.strptime(':'.join('00:20:00:00'.split(':')[:3]),\"%H:%M:%S\")- timedelta(minutes=40)"
   ]
  },
  {
   "cell_type": "code",
   "execution_count": 38,
   "id": "e20ef013",
   "metadata": {},
   "outputs": [
    {
     "data": {
      "text/plain": [
       "'1900-01-01 15:59:20'"
      ]
     },
     "execution_count": 38,
     "metadata": {},
     "output_type": "execute_result"
    }
   ],
   "source": [
    "str(datetime.strptime(time.strftime(\"%H:%M:%S\"),\"%H:%M:%S\"))"
   ]
  },
  {
   "cell_type": "code",
   "execution_count": null,
   "id": "db5e71ee",
   "metadata": {},
   "outputs": [],
   "source": []
  },
  {
   "cell_type": "code",
   "execution_count": 27,
   "id": "6a68be13",
   "metadata": {},
   "outputs": [
    {
     "data": {
      "text/plain": [
       "'13:25:00'"
      ]
     },
     "execution_count": 27,
     "metadata": {},
     "output_type": "execute_result"
    }
   ],
   "source": [
    "':'.join(('13:25:00:00',)[0].split(':')[:-1])"
   ]
  },
  {
   "cell_type": "code",
   "execution_count": 28,
   "id": "c708a5a0",
   "metadata": {},
   "outputs": [
    {
     "data": {
      "text/plain": [
       "datetime.datetime(1900, 1, 1, 13, 25)"
      ]
     },
     "execution_count": 28,
     "metadata": {},
     "output_type": "execute_result"
    }
   ],
   "source": [
    "datetime.strptime(':'.join(('13:25:00:00',)[0].split(':')[:-1]),\"%H:%M:%S\")"
   ]
  },
  {
   "cell_type": "code",
   "execution_count": 29,
   "id": "88eb51b4",
   "metadata": {},
   "outputs": [
    {
     "data": {
      "text/plain": [
       "'15:42:00'"
      ]
     },
     "execution_count": 29,
     "metadata": {},
     "output_type": "execute_result"
    }
   ],
   "source": [
    "time.strftime(\"%H:%M:00\")"
   ]
  },
  {
   "cell_type": "code",
   "execution_count": 30,
   "id": "2a82a3a2",
   "metadata": {},
   "outputs": [
    {
     "data": {
      "text/plain": [
       "datetime.datetime(1900, 1, 1, 15, 42)"
      ]
     },
     "execution_count": 30,
     "metadata": {},
     "output_type": "execute_result"
    }
   ],
   "source": [
    "datetime.strptime(time.strftime(\"%H:%M:00\"),\"%H:%M:%S\")"
   ]
  },
  {
   "cell_type": "code",
   "execution_count": 31,
   "id": "a4d31ed8",
   "metadata": {},
   "outputs": [
    {
     "data": {
      "text/plain": [
       "datetime.timedelta(seconds=8280)"
      ]
     },
     "execution_count": 31,
     "metadata": {},
     "output_type": "execute_result"
    }
   ],
   "source": [
    "datetime.strptime(time.strftime(\"%H:%M:00\"),\"%H:%M:%S\")-datetime.strptime(':'.join(('13:25:00:00',)[0].split(':')[:-1]),\"%H:%M:%S\")"
   ]
  },
  {
   "cell_type": "code",
   "execution_count": null,
   "id": "e2ec8220",
   "metadata": {},
   "outputs": [],
   "source": []
  },
  {
   "cell_type": "code",
   "execution_count": null,
   "id": "f2b3c578",
   "metadata": {},
   "outputs": [],
   "source": []
  },
  {
   "cell_type": "code",
   "execution_count": null,
   "id": "d892eda6",
   "metadata": {},
   "outputs": [],
   "source": []
  },
  {
   "cell_type": "code",
   "execution_count": null,
   "id": "51423787",
   "metadata": {},
   "outputs": [],
   "source": []
  },
  {
   "cell_type": "code",
   "execution_count": null,
   "id": "24533542",
   "metadata": {},
   "outputs": [],
   "source": []
  },
  {
   "cell_type": "code",
   "execution_count": 16,
   "id": "25cf5bd9",
   "metadata": {},
   "outputs": [
    {
     "data": {
      "text/plain": [
       "['Moujaz Riyadi',\n",
       " 'Assir',\n",
       " 'Eco News',\n",
       " 'Journal Amazigh',\n",
       " 'Bent Bladi',\n",
       " 'Min Ajli Ibni',\n",
       " 'Sabahiyat 2M']"
      ]
     },
     "execution_count": 16,
     "metadata": {},
     "output_type": "execute_result"
    }
   ],
   "source": [
    "current_date=time.strftime(\"%d:%m:%Y\").replace(':','/')\n",
    "#current_time=\n",
    "connection = mysql.connector.connect(host=localhost,\n",
    "                         user=user,\n",
    "                         password=password,\n",
    "                         db=db_name,\n",
    "                        auth_plugin='mysql_native_password')\n",
    "\n",
    "sql='select Start_Time, id_diffussion, Event_Name from '+table_name+' where Start_Date='+'\"'+current_date+'\"'\n",
    "cursor=connection.cursor()\n",
    "cursor.execute(sql)\n",
    "records = cursor.fetchall()\n",
    "idd=[]\n",
    "times=[]\n",
    "event=[]\n",
    "for rec in records:\n",
    "    times.append(datetime.strptime(':'.join(rec[0].split(':')[:-1]), \"%H:%M:%S\"))\n",
    "    idd.append(rec[1])\n",
    "    event.append(rec[2])\n",
    "\n",
    "data={'id_diffussion':idd,'Start_Time':times,'Event_Name':event}\n",
    "df=pd.DataFrame(data)\n",
    "\n",
    "curent_time_minues=datetime.strptime(time.strftime(\"%H:%M:%S\"),\"%H:%M:%S\")- timedelta(hours=2)\n",
    "curent_time_plus=datetime.strptime(time.strftime(\"%H:%M:%S\"),\"%H:%M:%S\")+ timedelta(hours=2)\n",
    "\n",
    "get_idd_frame=df[(df.Start_Time<curent_time_plus) & (df.Start_Time>curent_time_minues)]\n",
    "list(get_idd_frame.Event_Name)\n"
   ]
  },
  {
   "cell_type": "code",
   "execution_count": 17,
   "id": "da209c53",
   "metadata": {},
   "outputs": [
    {
     "data": {
      "text/plain": [
       "'15:14:21'"
      ]
     },
     "execution_count": 17,
     "metadata": {},
     "output_type": "execute_result"
    }
   ],
   "source": [
    "time.strftime(\"%H:%M:%S\")"
   ]
  },
  {
   "cell_type": "code",
   "execution_count": 15,
   "id": "7ecb11a2",
   "metadata": {},
   "outputs": [
    {
     "data": {
      "text/html": [
       "<div>\n",
       "<style scoped>\n",
       "    .dataframe tbody tr th:only-of-type {\n",
       "        vertical-align: middle;\n",
       "    }\n",
       "\n",
       "    .dataframe tbody tr th {\n",
       "        vertical-align: top;\n",
       "    }\n",
       "\n",
       "    .dataframe thead th {\n",
       "        text-align: right;\n",
       "    }\n",
       "</style>\n",
       "<table border=\"1\" class=\"dataframe\">\n",
       "  <thead>\n",
       "    <tr style=\"text-align: right;\">\n",
       "      <th></th>\n",
       "      <th>id_diffussion</th>\n",
       "      <th>Start_Time</th>\n",
       "      <th>Event_Name</th>\n",
       "    </tr>\n",
       "  </thead>\n",
       "  <tbody>\n",
       "    <tr>\n",
       "      <th>22</th>\n",
       "      <td>17480096</td>\n",
       "      <td>1900-01-01 13:15:00</td>\n",
       "      <td>Moujaz Riyadi</td>\n",
       "    </tr>\n",
       "    <tr>\n",
       "      <th>23</th>\n",
       "      <td>17480097</td>\n",
       "      <td>1900-01-01 13:25:00</td>\n",
       "      <td>Assir</td>\n",
       "    </tr>\n",
       "    <tr>\n",
       "      <th>24</th>\n",
       "      <td>17480098</td>\n",
       "      <td>1900-01-01 14:15:00</td>\n",
       "      <td>Eco News</td>\n",
       "    </tr>\n",
       "    <tr>\n",
       "      <th>25</th>\n",
       "      <td>17480099</td>\n",
       "      <td>1900-01-01 14:20:00</td>\n",
       "      <td>Journal Amazigh</td>\n",
       "    </tr>\n",
       "    <tr>\n",
       "      <th>26</th>\n",
       "      <td>17480100</td>\n",
       "      <td>1900-01-01 14:30:00</td>\n",
       "      <td>Bent Bladi</td>\n",
       "    </tr>\n",
       "    <tr>\n",
       "      <th>27</th>\n",
       "      <td>17480101</td>\n",
       "      <td>1900-01-01 15:00:00</td>\n",
       "      <td>Min Ajli Ibni</td>\n",
       "    </tr>\n",
       "    <tr>\n",
       "      <th>28</th>\n",
       "      <td>17480102</td>\n",
       "      <td>1900-01-01 16:45:00</td>\n",
       "      <td>Sabahiyat 2M</td>\n",
       "    </tr>\n",
       "  </tbody>\n",
       "</table>\n",
       "</div>"
      ],
      "text/plain": [
       "    id_diffussion          Start_Time       Event_Name\n",
       "22       17480096 1900-01-01 13:15:00    Moujaz Riyadi\n",
       "23       17480097 1900-01-01 13:25:00            Assir\n",
       "24       17480098 1900-01-01 14:15:00         Eco News\n",
       "25       17480099 1900-01-01 14:20:00  Journal Amazigh\n",
       "26       17480100 1900-01-01 14:30:00       Bent Bladi\n",
       "27       17480101 1900-01-01 15:00:00    Min Ajli Ibni\n",
       "28       17480102 1900-01-01 16:45:00     Sabahiyat 2M"
      ]
     },
     "execution_count": 15,
     "metadata": {},
     "output_type": "execute_result"
    }
   ],
   "source": [
    "get_idd_frame"
   ]
  },
  {
   "cell_type": "code",
   "execution_count": null,
   "id": "4d5af55f",
   "metadata": {},
   "outputs": [],
   "source": [
    "def get_folders_to_handle(channel_name,user,password,localhost,db_name):\n",
    "    \n",
    "    current_date=time.strftime(\"%d:%m:%Y\").replace(':','/')\n",
    "    connection = mysql.connector.connect(host=localhost,\n",
    "                         user=user,\n",
    "                         password=password,\n",
    "                         db=db_name,\n",
    "                        auth_plugin='mysql_native_password')\n",
    "    \n",
    "    sql='select Start_Time, id_diffussion, Event_Name from '+table_name+' where Start_Date='+'\"'+current_date+'\"'\n",
    "    cursor=connection.cursor()\n",
    "    cursor.execute(sql)\n",
    "    records = cursor.fetchall()\n",
    "    idd=[]\n",
    "    times=[]\n",
    "    event=[]\n",
    "    \n",
    "    for rec in records:\n",
    "        times.append(datetime.strptime(':'.join(rec[0].split(':')[:-1]), \"%H:%M:%S\"))\n",
    "        idd.append(rec[1])\n",
    "        event.append(rec[2])\n",
    "        \n",
    "        data={'id_diffussion':idd,'Start_Time':times,'Event_Name':event}\n",
    "        df=pd.DataFrame(data)\n",
    "        \n",
    "        curent_time_minus=datetime.strptime(time.strftime(\"%H:%M:%S\"),\"%H:%M:%S\")- timedelta(hours=2)\n",
    "        curent_time_plus=datetime.strptime(time.strftime(\"%H:%M:%S\"),\"%H:%M:%S\")+ timedelta(hours=2)\n",
    "        \n",
    "        get_idd_frame=df[(df.Start_Time<curent_time_plus) & (df.Start_Time>curent_time_minus)]\n",
    "        \n",
    "        return list(get_idd_frame.Event_Name)\n",
    "    \n",
    "    "
   ]
  },
  {
   "cell_type": "code",
   "execution_count": 10,
   "id": "94697f2d",
   "metadata": {},
   "outputs": [
    {
     "data": {
      "text/plain": [
       "'13:12:00'"
      ]
     },
     "execution_count": 10,
     "metadata": {},
     "output_type": "execute_result"
    }
   ],
   "source": [
    "':'.join('13:12:00:00'.split(':')[:-1])"
   ]
  },
  {
   "cell_type": "code",
   "execution_count": 3,
   "id": "65961bb9",
   "metadata": {},
   "outputs": [
    {
     "data": {
      "text/plain": [
       "datetime.datetime(1900, 1, 1, 14, 12)"
      ]
     },
     "execution_count": 3,
     "metadata": {},
     "output_type": "execute_result"
    }
   ],
   "source": [
    "datetime.strptime(':'.join('13:12:00:00'.split(':')[:-1]), \"%H:%M:%S\")+ timedelta(hours=1)"
   ]
  },
  {
   "cell_type": "code",
   "execution_count": 6,
   "id": "abb480d2",
   "metadata": {},
   "outputs": [
    {
     "data": {
      "text/plain": [
       "True"
      ]
     },
     "execution_count": 6,
     "metadata": {},
     "output_type": "execute_result"
    }
   ],
   "source": [
    "datetime.strptime(':'.join('13:12:00:00'.split(':')[:-1]), \"%H:%M:%S\")+ timedelta(hours=1)>datetime.strptime(':'.join('13:12:00:00'.split(':')[:-1]), \"%H:%M:%S\")\n"
   ]
  },
  {
   "cell_type": "code",
   "execution_count": 15,
   "id": "2dfb4260",
   "metadata": {},
   "outputs": [
    {
     "data": {
      "text/plain": [
       "datetime.datetime(1900, 1, 1, 16, 0, 20)"
      ]
     },
     "execution_count": 15,
     "metadata": {},
     "output_type": "execute_result"
    }
   ],
   "source": [
    "datetime.strptime(time.strftime(\"%H:%M:%S\"),\"%H:%M:%S\")+ timedelta(hours=1)"
   ]
  },
  {
   "cell_type": "code",
   "execution_count": 41,
   "id": "93adcf6b",
   "metadata": {},
   "outputs": [],
   "source": [
    "import concurrent.futures"
   ]
  },
  {
   "cell_type": "code",
   "execution_count": null,
   "id": "fa6fe542",
   "metadata": {},
   "outputs": [],
   "source": []
  }
 ],
 "metadata": {
  "kernelspec": {
   "display_name": "Python 3 (ipykernel)",
   "language": "python",
   "name": "python3"
  },
  "language_info": {
   "codemirror_mode": {
    "name": "ipython",
    "version": 3
   },
   "file_extension": ".py",
   "mimetype": "text/x-python",
   "name": "python",
   "nbconvert_exporter": "python",
   "pygments_lexer": "ipython3",
   "version": "3.7.13"
  }
 },
 "nbformat": 4,
 "nbformat_minor": 5
}
