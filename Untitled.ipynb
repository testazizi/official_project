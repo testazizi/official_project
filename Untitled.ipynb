{
 "cells": [
  {
   "cell_type": "code",
   "execution_count": 1,
   "id": "45afbac3",
   "metadata": {},
   "outputs": [],
   "source": [
    "#import packages\n",
    "import pandas as pd\n",
    "import mysql.connector\n",
    "import time\n",
    "import os\n",
    "import cv2\n",
    "import sys\n",
    "from dotenv import load_dotenv\n",
    "from datetime import timedelta\n",
    "from datetime import datetime\n",
    "from pathlib import Path\n",
    "from functions import *\n",
    "from dotenv import load_dotenv\n",
    "import glob"
   ]
  },
  {
   "cell_type": "code",
   "execution_count": 2,
   "id": "998d856b",
   "metadata": {},
   "outputs": [],
   "source": [
    "user= \"root\" # the user\n",
    "password=\"epg2018.AfrDR12535754823\"  #the password\n",
    "localhost= \"127.0.0.1\"#the localhost\n",
    "db_name=\"Programs\"#name of the database\n",
    "channel_name= \"2m\"\n",
    "table_name=channel_name"
   ]
  },
  {
   "cell_type": "code",
   "execution_count": 3,
   "id": "4cfee63d",
   "metadata": {},
   "outputs": [],
   "source": [
    "def get_folders_to_handle(channel_name,user,password,localhost,db_name):\n",
    "    \n",
    "    current_date=time.strftime(\"%d:%m:%Y\").replace(':','/')\n",
    "    connection = mysql.connector.connect(host=localhost,\n",
    "                         user=user,\n",
    "                         password=password,\n",
    "                         db=db_name,\n",
    "                        auth_plugin='mysql_native_password')\n",
    "    \n",
    "    sql='select Start_Time, id_diffussion, Event_Name from '+table_name+' where Start_Date='+'\"'+current_date+'\"'\n",
    "    #print(sql)\n",
    "    cursor=connection.cursor()\n",
    "    cursor.execute(sql)\n",
    "    records = cursor.fetchall()\n",
    "    idd=[]\n",
    "    times=[]\n",
    "    event=[]\n",
    "    clear_time=[]\n",
    "    #print(records)\n",
    "    for rec in records:\n",
    "        clear_time.append(rec[0])\n",
    "        times.append(datetime.strptime(':'.join(rec[0].split(':')[:-1]), \"%H:%M:%S\"))\n",
    "        idd.append(rec[1])\n",
    "        event.append(rec[2])\n",
    "        \n",
    "        data={'id_diffussion':idd,'Start_Time':times,'Event_Name':event,'clear_time':clear_time}\n",
    "        df=pd.DataFrame(data)\n",
    "        #print(df)\n",
    "        \n",
    "        curent_time_minus=datetime.strptime(time.strftime(\"%H:%M:%S\"),\"%H:%M:%S\")- timedelta(hours=2)\n",
    "        curent_time_plus=datetime.strptime(time.strftime(\"%H:%M:%S\"),\"%H:%M:%S\")+ timedelta(hours=2)\n",
    "        \n",
    "        get_idd_frame=df[(df.Start_Time<curent_time_plus) & (df.Start_Time>curent_time_minus)]\n",
    "        \n",
    "    return list(get_idd_frame.Event_Name)\n",
    "    #return df"
   ]
  },
  {
   "cell_type": "code",
   "execution_count": 4,
   "id": "532dd635",
   "metadata": {},
   "outputs": [],
   "source": [
    "def compare_images(i_frame,jingle):\n",
    "    img1=cv2.imread(i_frame)\n",
    "    img2=cv2.imread(jingle)\n",
    "    #print(img1)\n",
    "    #print(img2)\n",
    "    \n",
    "    orb= cv2.ORB_create()\n",
    "    \n",
    "    kb_a, desc_a= orb.detectAndCompute(img1,None)\n",
    "    kb_b, desc_b= orb.detectAndCompute(img2,None)\n",
    "     \n",
    "    bf = cv2.BFMatcher(cv2.NORM_HAMMING, crossCheck=True)\n",
    "    matches=bf.match(desc_a, desc_b)\n",
    "    similar_regions=[i for i in matches if i.distance < 80]\n",
    "    \n",
    "    if len(matches) ==0:\n",
    "        return 0\n",
    "    return len(similar_regions)/len(matches)"
   ]
  },
  {
   "cell_type": "code",
   "execution_count": 5,
   "id": "eafbf56a",
   "metadata": {},
   "outputs": [],
   "source": [
    "def get_date_of_jingle(channel_name,jingle,user,password,localhost,db_name):\n",
    "    \n",
    "    current_date=time.strftime(\"%d:%m:%Y\").replace(':','/')\n",
    "    current_time=datetime.strptime(time.strftime(\"%H:%M:%S\"),\"%H:%M:%S\")\n",
    "    result=''\n",
    "    \n",
    "    connection = mysql.connector.connect(host=localhost,\n",
    "                         user=user,\n",
    "                         password=password,\n",
    "                         db=db_name,\n",
    "                        auth_plugin='mysql_native_password')\n",
    "    \n",
    "    cursor=connection.cursor()\n",
    "\n",
    "    sql='select Start_Time from ' +channel_name+ ' where Start_Date='+'\"'+current_date+'\"'+' and Event_name='+'\"'+jingle+'\"'\n",
    "    cursor.execute(sql)\n",
    "    records = cursor.fetchall()\n",
    "    \n",
    "    if len(records)==1:\n",
    "        return records[0]\n",
    "    else:\n",
    "    \n",
    "        for record in records:\n",
    "            #print(record)\n",
    "            interval=[]\n",
    "            interval.append(datetime.strptime(':'.join(record[0].split(':')[:3]),\"%H:%M:%S\")- timedelta(minutes=150))\n",
    "            interval.append(datetime.strptime(':'.join(record[0].split(':')[:3]),\"%H:%M:%S\")+ timedelta(minutes=150))\n",
    "        \n",
    "        \n",
    "            if current_time>interval[0] and current_time<interval[1]:\n",
    "                result=record\n",
    "                break\n",
    "        \n",
    "            \n",
    "        return result"
   ]
  },
  {
   "cell_type": "code",
   "execution_count": 6,
   "id": "b7b3a72f",
   "metadata": {},
   "outputs": [],
   "source": [
    "def update_jingle_time(channel_name,jingle,user,password,localhost,db_name):\n",
    "    \n",
    "    current_date=time.strftime(\"%d:%m:%Y\").replace(':','/')\n",
    "    current_time=(time.strftime(\"%H:%M:%S\")+\":00\",)\n",
    "    result=get_date_of_jingle(channel_name,jingle,user,password,localhost,db_name)\n",
    "    \n",
    "    connection = mysql.connector.connect(host=localhost,\n",
    "                         user=user,\n",
    "                         password=password,\n",
    "                         db=db_name,\n",
    "                        auth_plugin='mysql_native_password')\n",
    "    \n",
    "    cursor=connection.cursor()\n",
    "    #sql='UPDATE '+channel_name+' SET Start_Time =\"'+current_time[0]+'\" where Start_Date=\"'+current_date+'\" and Event_name=\"'+jingle+'\" and Start_Time=\"\"'\n",
    "    \n",
    "    sql='UPDATE '+channel_name+' SET Start_Time ='+'\"'+current_time[0]+'\"'+' where Start_Date='+'\"'+current_date+'\"'+' and Event_name='+'\"'+jingle+'\"'+' and Start_Time='+'\"'+result[0]+'\"'\n",
    "    #print(sql)\n",
    "    #ple=(current_time[0],result[0])\n",
    "    \n",
    "    cursor.execute(sql)\n",
    "    \n",
    "    connection.commit()"
   ]
  },
  {
   "cell_type": "code",
   "execution_count": 7,
   "id": "7b67ae19",
   "metadata": {},
   "outputs": [
    {
     "data": {
      "text/plain": [
       "['Min Ajli Ibni',\n",
       " 'Sabahiyat 2M',\n",
       " 'Atomic Puppet',\n",
       " 'Furiki Wheels',\n",
       " 'Bernard',\n",
       " \"Ch'Hiwa Ma3A Choumicha\",\n",
       " 'Pop Up',\n",
       " 'Lkhwatate',\n",
       " 'Walima M3A Halima']"
      ]
     },
     "execution_count": 7,
     "metadata": {},
     "output_type": "execute_result"
    }
   ],
   "source": [
    "get_folders_to_handle(table_name,user,password,localhost,db_name)"
   ]
  },
  {
   "cell_type": "code",
   "execution_count": 8,
   "id": "1c1e9927",
   "metadata": {},
   "outputs": [],
   "source": [
    "filename =\"2m/iframes/Pop Up/index4424.1658599490_1_6.png\" #str(sys.argv[1])\n",
    "    \n",
    "    #get the current time which the time of the i_frame\n",
    "i_frame_time= time.strftime(\"%H:%M:00\")\n",
    "    #get all the jingles inside 2m folder as an example\n",
    "    \n",
    "jingles = []\n",
    "for folder in get_folders_to_handle(table_name,user,password,localhost,db_name):\n",
    "    for file in glob.glob(table_name+\"/iframes/\"+folder+\"/*.png\"):\n",
    "    #for file in glob.glob(table_name+\"/iframes/\"+folder+\"/*.png\"):\n",
    "        jingles.append(file)"
   ]
  },
  {
   "cell_type": "code",
   "execution_count": 9,
   "id": "a37779da",
   "metadata": {},
   "outputs": [
    {
     "data": {
      "text/plain": [
       "['2m/iframes/Min Ajli Ibni/index3827.1658595908_60_6.png',\n",
       " '2m/iframes/Min Ajli Ibni/index3826.1658595902_11_6.png',\n",
       " '2m/iframes/Min Ajli Ibni/index3822.1658595878_17_6.png',\n",
       " '2m/iframes/Min Ajli Ibni/index3820.1658595866_42_6.png',\n",
       " '2m/iframes/Min Ajli Ibni/index3829.1658595920_41_6.png',\n",
       " '2m/iframes/Pop Up/index4424.1658599490_1_6.png',\n",
       " '2m/iframes/Pop Up/index2939.1658626866_95_6.png',\n",
       " '2m/iframes/Pop Up/index2940.1658626872_1_6.png']"
      ]
     },
     "execution_count": 9,
     "metadata": {},
     "output_type": "execute_result"
    }
   ],
   "source": [
    "jingles"
   ]
  },
  {
   "cell_type": "code",
   "execution_count": 10,
   "id": "39355e56",
   "metadata": {},
   "outputs": [
    {
     "name": "stdout",
     "output_type": "stream",
     "text": [
      "Min Ajli Ibni\n",
      "they are not similar!\n",
      "Min Ajli Ibni\n",
      "they are not similar!\n",
      "Min Ajli Ibni\n",
      "they are not similar!\n",
      "Min Ajli Ibni\n",
      "they are not similar!\n",
      "Min Ajli Ibni\n",
      "they are not similar!\n",
      "Pop Up\n",
      "time_of_show 17:11:31:00\n",
      "done\n",
      "Pop Up\n",
      "they are not similar!\n",
      "Pop Up\n",
      "time_of_show 17:16:37:00\n",
      "done\n"
     ]
    }
   ],
   "source": [
    "time_of_chow=''\n",
    "for jingle in jingles:\n",
    "    print(jingle.split('/')[-2])  \n",
    "    #check the similarity between the two images\n",
    "    result= compare_images(filename,jingle)\n",
    "    \n",
    "    if result<0.98:\n",
    "        print('they are not similar!')\n",
    "\n",
    "    else:  \n",
    "        #they are similar\n",
    "        #logger.info('There is a similarity between this i_frame %s and this i_frame %s at %s',jingle,i_frame,i_frame_time)\n",
    "        time_of_chow=get_date_of_jingle(channel_name,jingle.split('/')[-2],user,password,localhost,db_name)[0]\n",
    "        print('time_of_show',time_of_chow)\n",
    "        dif_time = datetime.strptime(i_frame_time,\"%H:%M:%S\") - datetime.strptime(':'.join(time_of_chow.split(':')[:-1]),\"%H:%M:%S\")\n",
    "        \n",
    "        if dif_time==0:\n",
    "            pass\n",
    "                \n",
    "        else:\n",
    "            update_jingle_time(table_name,jingle.split('/')[-2],user,password,localhost,db_name)\n",
    "            print('done')"
   ]
  },
  {
   "cell_type": "code",
   "execution_count": null,
   "id": "4831adce",
   "metadata": {},
   "outputs": [],
   "source": []
  },
  {
   "cell_type": "code",
   "execution_count": null,
   "id": "1257ed6f",
   "metadata": {},
   "outputs": [],
   "source": []
  },
  {
   "cell_type": "code",
   "execution_count": null,
   "id": "35c22979",
   "metadata": {},
   "outputs": [],
   "source": []
  },
  {
   "cell_type": "code",
   "execution_count": null,
   "id": "9eaed309",
   "metadata": {},
   "outputs": [],
   "source": []
  },
  {
   "cell_type": "code",
   "execution_count": null,
   "id": "66784b55",
   "metadata": {},
   "outputs": [],
   "source": []
  },
  {
   "cell_type": "code",
   "execution_count": null,
   "id": "171698f5",
   "metadata": {},
   "outputs": [],
   "source": []
  },
  {
   "cell_type": "code",
   "execution_count": null,
   "id": "34eb28ce",
   "metadata": {},
   "outputs": [],
   "source": []
  },
  {
   "cell_type": "code",
   "execution_count": null,
   "id": "a13b08c0",
   "metadata": {},
   "outputs": [],
   "source": []
  },
  {
   "cell_type": "code",
   "execution_count": null,
   "id": "010ae915",
   "metadata": {},
   "outputs": [],
   "source": []
  },
  {
   "cell_type": "code",
   "execution_count": 5,
   "id": "c0920458",
   "metadata": {},
   "outputs": [
    {
     "data": {
      "text/plain": [
       "['Min Ajli Ibni', 'Sabahiyat 2M', 'Atomic Puppet']"
      ]
     },
     "execution_count": 5,
     "metadata": {},
     "output_type": "execute_result"
    }
   ],
   "source": [
    "get_folders_to_handle(table_name,user,password,localhost,db_name)"
   ]
  },
  {
   "cell_type": "code",
   "execution_count": 8,
   "id": "18686353",
   "metadata": {},
   "outputs": [],
   "source": [
    "def get_date_of_jingle(channel_name,jingle,user,password,localhost,db_name):\n",
    "    \n",
    "    current_date=time.strftime(\"%d:%m:%Y\").replace(':','/')\n",
    "    current_time=datetime.strptime(time.strftime(\"%H:%M:%S\"),\"%H:%M:%S\")\n",
    "    result=''\n",
    "    \n",
    "    connection = mysql.connector.connect(host=localhost,\n",
    "                         user=user,\n",
    "                         password=password,\n",
    "                         db=db_name,\n",
    "                        auth_plugin='mysql_native_password')\n",
    "    \n",
    "    cursor=connection.cursor()\n",
    "\n",
    "    sql='select Start_Time from ' +channel_name+ ' where Start_Date='+'\"'+current_date+'\"'+' and Event_name='+'\"'+jingle+'\"'\n",
    "    cursor.execute(sql)\n",
    "    records = cursor.fetchall()\n",
    "    \n",
    "    if len(records)==1:\n",
    "        return records[0]\n",
    "    else:\n",
    "    \n",
    "        for record in records:\n",
    "            #print(record)\n",
    "            interval=[]\n",
    "            interval.append(datetime.strptime(':'.join(record[0].split(':')[:3]),\"%H:%M:%S\")- timedelta(minutes=150))\n",
    "            interval.append(datetime.strptime(':'.join(record[0].split(':')[:3]),\"%H:%M:%S\")+ timedelta(minutes=150))\n",
    "        \n",
    "        \n",
    "            if current_time>interval[0] and current_time<interval[1]:\n",
    "                result=record\n",
    "                break\n",
    "        \n",
    "            \n",
    "        return result"
   ]
  },
  {
   "cell_type": "code",
   "execution_count": 10,
   "id": "1064b1d6",
   "metadata": {},
   "outputs": [
    {
     "data": {
      "text/plain": [
       "'15:00:00:00'"
      ]
     },
     "execution_count": 10,
     "metadata": {},
     "output_type": "execute_result"
    }
   ],
   "source": [
    "get_date_of_jingle(channel_name,\"Min Ajli Ibni\",user,password,localhost,db_name)[0]"
   ]
  },
  {
   "cell_type": "code",
   "execution_count": 6,
   "id": "720e4d43",
   "metadata": {},
   "outputs": [],
   "source": [
    "jingles = []\n",
    "for folder in get_folders_to_handle(table_name,user,password,localhost,db_name):\n",
    "    for file in glob.glob(table_name+\"/iframes/\"+folder+\"/*.png\"):\n",
    "    #for file in glob.glob(table_name+\"/iframes/\"+folder+\"/*.png\"):\n",
    "        jingles.append(file)"
   ]
  },
  {
   "cell_type": "code",
   "execution_count": null,
   "id": "2b42ccab",
   "metadata": {},
   "outputs": [],
   "source": []
  },
  {
   "cell_type": "code",
   "execution_count": 15,
   "id": "7d6e0ae8",
   "metadata": {},
   "outputs": [
    {
     "name": "stdout",
     "output_type": "stream",
     "text": [
      "Min Ajli Ibni\n",
      "Min Ajli Ibni\n",
      "Min Ajli Ibni\n",
      "Min Ajli Ibni\n",
      "Min Ajli Ibni\n",
      "UPDATE 2m SET Start_Time =%s where Start_Date=\"26/07/2022\" and Event_name=\"Min Ajli Ibni\" and Start_Time=%s\n",
      "done\n"
     ]
    }
   ],
   "source": [
    "time_of_chow=''\n",
    "for jingle in jingles:\n",
    "    print(jingle.split('/')[-2])  \n",
    "    #check the similarity between the two images\n",
    "    result= compare_images(filename,jingle)\n",
    "    \n",
    "    if result<0.98:\n",
    "        pass\n",
    "\n",
    "    else:  \n",
    "        #they are similar\n",
    "        #logger.info('There is a similarity between this i_frame %s and this i_frame %s at %s',jingle,i_frame,i_frame_time)\n",
    "        time_of_chow=get_date_of_jingle(channel_name,jingle.split('/')[-2],user,password,localhost,db_name)[0]\n",
    "        dif_time = datetime.strptime(i_frame_time,\"%H:%M:%S\") - datetime.strptime(':'.join(time_of_chow.split(':')[:-1]),\"%H:%M:%S\")\n",
    "        \n",
    "        if dif_time==0:\n",
    "            pass\n",
    "                \n",
    "        else:\n",
    "            update_jingle_time(table_name,jingle.split('/')[-2],user,password,localhost,db_name)\n",
    "            print('done')\n",
    "            "
   ]
  },
  {
   "cell_type": "code",
   "execution_count": 12,
   "id": "5737dad8",
   "metadata": {},
   "outputs": [
    {
     "data": {
      "text/plain": [
       "datetime.timedelta(seconds=4200)"
      ]
     },
     "execution_count": 12,
     "metadata": {},
     "output_type": "execute_result"
    }
   ],
   "source": [
    "dif_time"
   ]
  },
  {
   "cell_type": "code",
   "execution_count": null,
   "id": "f4dc5c7a",
   "metadata": {},
   "outputs": [],
   "source": []
  },
  {
   "cell_type": "code",
   "execution_count": 14,
   "id": "a53145e5",
   "metadata": {},
   "outputs": [],
   "source": [
    "def get_date_of_jingle(channel_name,jingle,user,password,localhost,db_name):\n",
    "    \n",
    "    current_date=time.strftime(\"%d:%m:%Y\").replace(':','/')\n",
    "    current_time=datetime.strptime(time.strftime(\"%H:%M:%S\"),\"%H:%M:%S\")\n",
    "    result=''\n",
    "    \n",
    "    connection = mysql.connector.connect(host=localhost,\n",
    "                         user=user,\n",
    "                         password=password,\n",
    "                         db=db_name,\n",
    "                        auth_plugin='mysql_native_password')\n",
    "    \n",
    "    cursor=connection.cursor()\n",
    "\n",
    "    sql='select Start_Time from ' +channel_name+ ' where Start_Date='+'\"'+current_date+'\"'+' and Event_name='+'\"'+jingle+'\"'\n",
    "    cursor.execute(sql)\n",
    "    records = cursor.fetchall()\n",
    "    \n",
    "    if len(records)==1:\n",
    "        return records[0]\n",
    "    else:\n",
    "    \n",
    "        for record in records:\n",
    "            #print(record)\n",
    "            interval=[]\n",
    "            interval.append(datetime.strptime(':'.join(record[0].split(':')[:3]),\"%H:%M:%S\")- timedelta(minutes=150))\n",
    "            interval.append(datetime.strptime(':'.join(record[0].split(':')[:3]),\"%H:%M:%S\")+ timedelta(minutes=150))\n",
    "        \n",
    "        \n",
    "            if current_time>interval[0] and current_time<interval[1]:\n",
    "                result=record\n",
    "                break\n",
    "        \n",
    "            \n",
    "        return result\n",
    "\n",
    "\n",
    "def update_jingle_time(channel_name,jingle,user,password,localhost,db_name):\n",
    "    \n",
    "    current_date=time.strftime(\"%d:%m:%Y\").replace(':','/')\n",
    "    current_time=(time.strftime(\"%H:%M:%S\")+\":00\",)\n",
    "    result=get_date_of_jingle(channel_name,jingle,user,password,localhost,db_name)\n",
    "    connection = mysql.connector.connect(host=localhost,\n",
    "                         user=user,\n",
    "                         password=password,\n",
    "                         db=db_name,\n",
    "                        auth_plugin='mysql_native_password')\n",
    "    \n",
    "    cursor=connection.cursor()\n",
    "    \n",
    "    sql='UPDATE '+channel_name+ ' SET Start_Time =%s where Start_Date='+'\"'+current_date+'\"'+' and Event_name='+'\"'+jingle+'\"'+' and Start_Time=%s'\n",
    "    print(sql)\n",
    "    ple=(current_time[0],result[0])\n",
    "    \n",
    "    cursor.execute(sql,ple)\n",
    "    \n",
    "    \n",
    "    connection.commit()\n",
    "\n",
    "\n",
    "def compare_images(i_frame,jingle):\n",
    "    img1=cv2.imread(i_frame)\n",
    "    img2=cv2.imread(jingle)\n",
    "    #print(img1)\n",
    "    #print(img2)\n",
    "    \n",
    "    orb= cv2.ORB_create()\n",
    "    \n",
    "    kb_a, desc_a= orb.detectAndCompute(img1,None)\n",
    "    kb_b, desc_b= orb.detectAndCompute(img2,None)\n",
    "     \n",
    "    bf = cv2.BFMatcher(cv2.NORM_HAMMING, crossCheck=True)\n",
    "    matches=bf.match(desc_a, desc_b)\n",
    "    similar_regions=[i for i in matches if i.distance < 80]\n",
    "    \n",
    "    if len(matches) ==0:\n",
    "        return 0\n",
    "    return len(similar_regions)/len(matches)\n",
    "\n",
    "\n",
    "############## there is a case to handle when we handle the beginning of a show\n"
   ]
  },
  {
   "cell_type": "code",
   "execution_count": 4,
   "id": "351106dc",
   "metadata": {},
   "outputs": [
    {
     "name": "stdout",
     "output_type": "stream",
     "text": [
      "2m/iframe_live/index4.1658835213_144_6.png\n"
     ]
    },
    {
     "data": {
      "text/plain": [
       "['Sabahiyat 2M']"
      ]
     },
     "execution_count": 4,
     "metadata": {},
     "output_type": "execute_result"
    }
   ],
   "source": [
    "filename =\"2m/iframe_live/index4.1658835213_144_6.png\" #str(sys.argv[1])\n",
    "\n",
    "\n",
    "#def script5(filename):\n",
    "print(filename)\n",
    "    #read the i_frame\n",
    "#i_frame_detected= cv2.imread(filename)\n",
    "    \n",
    "    #get the current time which the time of the i_frame\n",
    "i_frame_time= time.strftime(\"%H:%M:00\")\n",
    "    #get all the jingles inside 2m folder as an example\n",
    "    \n",
    "jingles = []\n",
    "\n",
    "get_folders_to_handle(table_name,user,password,localhost,db_name)"
   ]
  },
  {
   "cell_type": "code",
   "execution_count": 5,
   "id": "b95a913e",
   "metadata": {},
   "outputs": [
    {
     "data": {
      "text/plain": [
       "datetime.datetime(1900, 1, 1, 16, 2)"
      ]
     },
     "execution_count": 5,
     "metadata": {},
     "output_type": "execute_result"
    }
   ],
   "source": [
    "datetime.strptime(time.strftime(\"%H:%M:00\"),\"%H:%M:%S\")"
   ]
  },
  {
   "cell_type": "code",
   "execution_count": 7,
   "id": "20c83f12",
   "metadata": {},
   "outputs": [
    {
     "name": "stdout",
     "output_type": "stream",
     "text": [
      "2m/iframe_live/index4.1658835213_144_6.png\n"
     ]
    }
   ],
   "source": [
    "filename =\"2m/iframe_live/index4.1658835213_144_6.png\" #str(sys.argv[1])\n",
    "\n",
    "\n",
    "#def script5(filename):\n",
    "print(filename)\n",
    "    #read the i_frame\n",
    "#i_frame_detected= cv2.imread(filename)\n",
    "    \n",
    "    #get the current time which the time of the i_frame\n",
    "i_frame_time= time.strftime(\"%H:%M:00\")\n",
    "    #get all the jingles inside 2m folder as an example\n",
    "    \n",
    "jingles = []\n",
    "for folder in get_folders_to_handle(table_name,user,password,localhost,db_name):\n",
    "    for file in glob.glob(table_name+\"/iframes/\"+folder+\"/*.png\"):\n",
    "    #for file in glob.glob(table_name+\"/iframes/\"+folder+\"/*.png\"):\n",
    "        jingles.append(file)\n",
    "\n",
    "for jingle in jingles:\n",
    "    print(jingle.split('/')[-2])  \n",
    "    #check the similarity between the two images\n",
    "    result= compare_images(filename,jingle)\n",
    "        \n",
    "    # if they're not similar do nothing\n",
    "    if result<0.98:\n",
    "        pass\n",
    "\n",
    "    else:  \n",
    "        #they are similar\n",
    "        #logger.info('There is a similarity between this i_frame %s and this i_frame %s at %s',jingle,i_frame,i_frame_time)\n",
    "        dif_time = datetime.strptime(i_frame_time,\"%H:%M:%S\") - datetime.strptime(':'.join(result[0].split(':')[:-1]),\"%H:%M:%S\")\n",
    "\n",
    "        if dif_time==0:\n",
    "            pass\n",
    "                \n",
    "        else:\n",
    "            update_jingle_time(table_name,jingle.split('/')[-2],user,password,localhost,db_name)\n",
    "            print('done')\n",
    "            logger.info('There is an update in %s at %s',i_frame,i_frame_time)"
   ]
  },
  {
   "cell_type": "code",
   "execution_count": 8,
   "id": "6125a259",
   "metadata": {},
   "outputs": [
    {
     "data": {
      "text/plain": [
       "[]"
      ]
     },
     "execution_count": 8,
     "metadata": {},
     "output_type": "execute_result"
    }
   ],
   "source": [
    "jingles"
   ]
  },
  {
   "cell_type": "code",
   "execution_count": 30,
   "id": "7f9390ca",
   "metadata": {},
   "outputs": [
    {
     "data": {
      "text/plain": [
       "'Journal Amazigh'"
      ]
     },
     "execution_count": 30,
     "metadata": {},
     "output_type": "execute_result"
    }
   ],
   "source": [
    "'2m/iframes/Journal Amazigh/index2116.1658585642_1_6.png'.split('/')[-2]"
   ]
  },
  {
   "cell_type": "code",
   "execution_count": 10,
   "id": "2f98fb02",
   "metadata": {},
   "outputs": [
    {
     "data": {
      "text/plain": [
       "['2m/iframes/Bent Bladi/index3547.1658594228_51_6.png',\n",
       " '2m/iframes/Bent Bladi/index3547.1658594228_86_6.png',\n",
       " '2m/iframes/Bent Bladi/index3546.1658594222_141_6.png']"
      ]
     },
     "execution_count": 10,
     "metadata": {},
     "output_type": "execute_result"
    }
   ],
   "source": [
    "glob.glob(table_name+\"/iframes/Bent Bladi/*.png\")"
   ]
  },
  {
   "cell_type": "code",
   "execution_count": null,
   "id": "8e24646f",
   "metadata": {},
   "outputs": [],
   "source": []
  },
  {
   "cell_type": "code",
   "execution_count": null,
   "id": "e07d2a74",
   "metadata": {},
   "outputs": [],
   "source": []
  }
 ],
 "metadata": {
  "kernelspec": {
   "display_name": "Python 3 (ipykernel)",
   "language": "python",
   "name": "python3"
  },
  "language_info": {
   "codemirror_mode": {
    "name": "ipython",
    "version": 3
   },
   "file_extension": ".py",
   "mimetype": "text/x-python",
   "name": "python",
   "nbconvert_exporter": "python",
   "pygments_lexer": "ipython3",
   "version": "3.7.13"
  }
 },
 "nbformat": 4,
 "nbformat_minor": 5
}
